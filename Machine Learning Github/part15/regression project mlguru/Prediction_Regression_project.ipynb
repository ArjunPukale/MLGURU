{
 "cells": [
  {
   "cell_type": "code",
   "execution_count": 1,
   "metadata": {
    "colab": {},
    "colab_type": "code",
    "id": "MbURSi-YjPUu"
   },
   "outputs": [],
   "source": [
    "import numpy as np\n",
    "from pickle import load"
   ]
  },
  {
   "cell_type": "code",
   "execution_count": 2,
   "metadata": {
    "colab": {},
    "colab_type": "code",
    "id": "CaweBf82jctK"
   },
   "outputs": [],
   "source": [
    "loaded_model = load(open('best_model.pkl', 'rb'))\n",
    "poly = load(open('poly.pkl', 'rb'))\n",
    "sc = load(open('scalar.pkl', 'rb'))"
   ]
  },
  {
   "cell_type": "code",
   "execution_count": 16,
   "metadata": {
    "colab": {},
    "colab_type": "code",
    "id": "xg_yQKE3jnbG"
   },
   "outputs": [],
   "source": [
    "def prediction(model,poly,sc):\n",
    "    l=[]\n",
    "    l.append(float(input('Enter House Age: ')))\n",
    "    l.append(float(input('distance to the nearest MRT station: ')))\n",
    "    l.append(float(input('number of convenience stores: ')))\n",
    "    l.append(float(input('Latitude: ')))\n",
    "    l.append(float(input('Longitude: ')))\n",
    "    arr = np.asarray([l])\n",
    "    arr = poly.transform(arr)\n",
    "#     scaled_arr = (arr - np.array(sc.mean_).flatten())/(np.array((sc.var_).flatten()**0.5))\n",
    "    scaled_arr = sc.transform(arr)\n",
    "    print('Price of the house per unit area: ', round(model.predict(scaled_arr)[0][0],2))"
   ]
  },
  {
   "cell_type": "code",
   "execution_count": 17,
   "metadata": {
    "colab": {},
    "colab_type": "code",
    "id": "q4DbySEAjstz"
   },
   "outputs": [],
   "source": [
    "# 19.5 \t306.59470 \t9 \t24.98034 \t121.53951 \t42.2"
   ]
  },
  {
   "cell_type": "code",
   "execution_count": 19,
   "metadata": {
    "colab": {
     "base_uri": "https://localhost:8080/",
     "height": 128
    },
    "colab_type": "code",
    "id": "zUB4nr5Ujp8e",
    "outputId": "aea3034c-a3a5-4ad2-b588-9be0b841ef45"
   },
   "outputs": [
    {
     "name": "stdout",
     "output_type": "stream",
     "text": [
      "Enter House Age: 19.5\n",
      "distance to the nearest MRT station: 306.59470\n",
      "number of convenience stores: 9\n",
      "Latitude: 24.98034\n",
      "Longitude: 121.53951\n",
      "Price of the house per unit area:  45.19\n"
     ]
    }
   ],
   "source": [
    "prediction(loaded_model,poly,sc)"
   ]
  },
  {
   "cell_type": "code",
   "execution_count": null,
   "metadata": {},
   "outputs": [],
   "source": []
  }
 ],
 "metadata": {
  "colab": {
   "collapsed_sections": [],
   "name": "Prediction Regression project.ipynb",
   "provenance": []
  },
  "kernelspec": {
   "display_name": "Python 3",
   "language": "python",
   "name": "python3"
  },
  "language_info": {
   "codemirror_mode": {
    "name": "ipython",
    "version": 3
   },
   "file_extension": ".py",
   "mimetype": "text/x-python",
   "name": "python",
   "nbconvert_exporter": "python",
   "pygments_lexer": "ipython3",
   "version": "3.7.4"
  }
 },
 "nbformat": 4,
 "nbformat_minor": 1
}
