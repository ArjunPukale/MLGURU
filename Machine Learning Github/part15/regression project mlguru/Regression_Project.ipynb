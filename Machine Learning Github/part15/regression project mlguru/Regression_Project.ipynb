{
 "cells": [
  {
   "cell_type": "markdown",
   "metadata": {
    "colab_type": "text",
    "id": "E2QuSInsFhH5"
   },
   "source": [
    "# Importing Libraries"
   ]
  },
  {
   "cell_type": "code",
   "execution_count": 1,
   "metadata": {
    "colab": {
     "base_uri": "https://localhost:8080/",
     "height": 74
    },
    "colab_type": "code",
    "id": "isoo2ATbFJbD",
    "outputId": "621f4224-73a4-454c-8b08-deb624ce0bde"
   },
   "outputs": [],
   "source": [
    "import pandas as pd\n",
    "import numpy as np\n",
    "import seaborn as sns\n",
    "sns.set()\n",
    "import matplotlib.pyplot as plt\n",
    "%matplotlib inline\n",
    "from sklearn.model_selection import train_test_split\n",
    "from sklearn.preprocessing import StandardScaler\n",
    "from sklearn.preprocessing import PolynomialFeatures\n",
    "from sklearn.linear_model import Ridge\n",
    "import pickle"
   ]
  },
  {
   "cell_type": "markdown",
   "metadata": {
    "colab_type": "text",
    "id": "NFzrMupBF8PE"
   },
   "source": [
    "# Exploring Dataset"
   ]
  },
  {
   "cell_type": "markdown",
   "metadata": {
    "colab_type": "text",
    "id": "B003KIDxRP3J"
   },
   "source": [
    "Dataset Link: https://www.kaggle.com/quantbruce/real-estate-price-prediction/download"
   ]
  },
  {
   "cell_type": "code",
   "execution_count": 2,
   "metadata": {
    "colab": {
     "base_uri": "https://localhost:8080/",
     "height": 223
    },
    "colab_type": "code",
    "id": "gYHAOu55F2On",
    "outputId": "b41ad8ad-5f67-4d1a-e7da-798cbe6c715c"
   },
   "outputs": [
    {
     "data": {
      "text/html": [
       "<div>\n",
       "<style scoped>\n",
       "    .dataframe tbody tr th:only-of-type {\n",
       "        vertical-align: middle;\n",
       "    }\n",
       "\n",
       "    .dataframe tbody tr th {\n",
       "        vertical-align: top;\n",
       "    }\n",
       "\n",
       "    .dataframe thead th {\n",
       "        text-align: right;\n",
       "    }\n",
       "</style>\n",
       "<table border=\"1\" class=\"dataframe\">\n",
       "  <thead>\n",
       "    <tr style=\"text-align: right;\">\n",
       "      <th></th>\n",
       "      <th>No</th>\n",
       "      <th>X1 transaction date</th>\n",
       "      <th>X2 house age</th>\n",
       "      <th>X3 distance to the nearest MRT station</th>\n",
       "      <th>X4 number of convenience stores</th>\n",
       "      <th>X5 latitude</th>\n",
       "      <th>X6 longitude</th>\n",
       "      <th>Y house price of unit area</th>\n",
       "    </tr>\n",
       "  </thead>\n",
       "  <tbody>\n",
       "    <tr>\n",
       "      <th>0</th>\n",
       "      <td>1</td>\n",
       "      <td>2012.917</td>\n",
       "      <td>32.0</td>\n",
       "      <td>84.87882</td>\n",
       "      <td>10</td>\n",
       "      <td>24.98298</td>\n",
       "      <td>121.54024</td>\n",
       "      <td>37.9</td>\n",
       "    </tr>\n",
       "    <tr>\n",
       "      <th>1</th>\n",
       "      <td>2</td>\n",
       "      <td>2012.917</td>\n",
       "      <td>19.5</td>\n",
       "      <td>306.59470</td>\n",
       "      <td>9</td>\n",
       "      <td>24.98034</td>\n",
       "      <td>121.53951</td>\n",
       "      <td>42.2</td>\n",
       "    </tr>\n",
       "    <tr>\n",
       "      <th>2</th>\n",
       "      <td>3</td>\n",
       "      <td>2013.583</td>\n",
       "      <td>13.3</td>\n",
       "      <td>561.98450</td>\n",
       "      <td>5</td>\n",
       "      <td>24.98746</td>\n",
       "      <td>121.54391</td>\n",
       "      <td>47.3</td>\n",
       "    </tr>\n",
       "    <tr>\n",
       "      <th>3</th>\n",
       "      <td>4</td>\n",
       "      <td>2013.500</td>\n",
       "      <td>13.3</td>\n",
       "      <td>561.98450</td>\n",
       "      <td>5</td>\n",
       "      <td>24.98746</td>\n",
       "      <td>121.54391</td>\n",
       "      <td>54.8</td>\n",
       "    </tr>\n",
       "    <tr>\n",
       "      <th>4</th>\n",
       "      <td>5</td>\n",
       "      <td>2012.833</td>\n",
       "      <td>5.0</td>\n",
       "      <td>390.56840</td>\n",
       "      <td>5</td>\n",
       "      <td>24.97937</td>\n",
       "      <td>121.54245</td>\n",
       "      <td>43.1</td>\n",
       "    </tr>\n",
       "  </tbody>\n",
       "</table>\n",
       "</div>"
      ],
      "text/plain": [
       "   No  X1 transaction date  X2 house age  \\\n",
       "0   1             2012.917          32.0   \n",
       "1   2             2012.917          19.5   \n",
       "2   3             2013.583          13.3   \n",
       "3   4             2013.500          13.3   \n",
       "4   5             2012.833           5.0   \n",
       "\n",
       "   X3 distance to the nearest MRT station  X4 number of convenience stores  \\\n",
       "0                                84.87882                               10   \n",
       "1                               306.59470                                9   \n",
       "2                               561.98450                                5   \n",
       "3                               561.98450                                5   \n",
       "4                               390.56840                                5   \n",
       "\n",
       "   X5 latitude  X6 longitude  Y house price of unit area  \n",
       "0     24.98298     121.54024                        37.9  \n",
       "1     24.98034     121.53951                        42.2  \n",
       "2     24.98746     121.54391                        47.3  \n",
       "3     24.98746     121.54391                        54.8  \n",
       "4     24.97937     121.54245                        43.1  "
      ]
     },
     "execution_count": 2,
     "metadata": {},
     "output_type": "execute_result"
    }
   ],
   "source": [
    "df = pd.read_csv(\"Real estate.csv\")\n",
    "df.head()"
   ]
  },
  {
   "cell_type": "code",
   "execution_count": 3,
   "metadata": {
    "colab": {
     "base_uri": "https://localhost:8080/",
     "height": 206
    },
    "colab_type": "code",
    "id": "PzAEK7sOGW5W",
    "outputId": "b0a40390-45e3-4f60-ca02-aaf1e498831b"
   },
   "outputs": [
    {
     "data": {
      "text/html": [
       "<div>\n",
       "<style scoped>\n",
       "    .dataframe tbody tr th:only-of-type {\n",
       "        vertical-align: middle;\n",
       "    }\n",
       "\n",
       "    .dataframe tbody tr th {\n",
       "        vertical-align: top;\n",
       "    }\n",
       "\n",
       "    .dataframe thead th {\n",
       "        text-align: right;\n",
       "    }\n",
       "</style>\n",
       "<table border=\"1\" class=\"dataframe\">\n",
       "  <thead>\n",
       "    <tr style=\"text-align: right;\">\n",
       "      <th></th>\n",
       "      <th>X2 house age</th>\n",
       "      <th>X3 distance to the nearest MRT station</th>\n",
       "      <th>X4 number of convenience stores</th>\n",
       "      <th>X5 latitude</th>\n",
       "      <th>X6 longitude</th>\n",
       "    </tr>\n",
       "  </thead>\n",
       "  <tbody>\n",
       "    <tr>\n",
       "      <th>0</th>\n",
       "      <td>32.0</td>\n",
       "      <td>84.87882</td>\n",
       "      <td>10</td>\n",
       "      <td>24.98298</td>\n",
       "      <td>121.54024</td>\n",
       "    </tr>\n",
       "    <tr>\n",
       "      <th>1</th>\n",
       "      <td>19.5</td>\n",
       "      <td>306.59470</td>\n",
       "      <td>9</td>\n",
       "      <td>24.98034</td>\n",
       "      <td>121.53951</td>\n",
       "    </tr>\n",
       "    <tr>\n",
       "      <th>2</th>\n",
       "      <td>13.3</td>\n",
       "      <td>561.98450</td>\n",
       "      <td>5</td>\n",
       "      <td>24.98746</td>\n",
       "      <td>121.54391</td>\n",
       "    </tr>\n",
       "    <tr>\n",
       "      <th>3</th>\n",
       "      <td>13.3</td>\n",
       "      <td>561.98450</td>\n",
       "      <td>5</td>\n",
       "      <td>24.98746</td>\n",
       "      <td>121.54391</td>\n",
       "    </tr>\n",
       "    <tr>\n",
       "      <th>4</th>\n",
       "      <td>5.0</td>\n",
       "      <td>390.56840</td>\n",
       "      <td>5</td>\n",
       "      <td>24.97937</td>\n",
       "      <td>121.54245</td>\n",
       "    </tr>\n",
       "  </tbody>\n",
       "</table>\n",
       "</div>"
      ],
      "text/plain": [
       "   X2 house age  X3 distance to the nearest MRT station  \\\n",
       "0          32.0                                84.87882   \n",
       "1          19.5                               306.59470   \n",
       "2          13.3                               561.98450   \n",
       "3          13.3                               561.98450   \n",
       "4           5.0                               390.56840   \n",
       "\n",
       "   X4 number of convenience stores  X5 latitude  X6 longitude  \n",
       "0                               10     24.98298     121.54024  \n",
       "1                                9     24.98034     121.53951  \n",
       "2                                5     24.98746     121.54391  \n",
       "3                                5     24.98746     121.54391  \n",
       "4                                5     24.97937     121.54245  "
      ]
     },
     "execution_count": 3,
     "metadata": {},
     "output_type": "execute_result"
    }
   ],
   "source": [
    "X=df.iloc[:,2:-1]\n",
    "X.head()"
   ]
  },
  {
   "cell_type": "code",
   "execution_count": 4,
   "metadata": {
    "colab": {
     "base_uri": "https://localhost:8080/",
     "height": 206
    },
    "colab_type": "code",
    "id": "XycShD1GGbrO",
    "outputId": "d33dc50f-dc05-4141-b18a-462d4e787e0f"
   },
   "outputs": [
    {
     "data": {
      "text/html": [
       "<div>\n",
       "<style scoped>\n",
       "    .dataframe tbody tr th:only-of-type {\n",
       "        vertical-align: middle;\n",
       "    }\n",
       "\n",
       "    .dataframe tbody tr th {\n",
       "        vertical-align: top;\n",
       "    }\n",
       "\n",
       "    .dataframe thead th {\n",
       "        text-align: right;\n",
       "    }\n",
       "</style>\n",
       "<table border=\"1\" class=\"dataframe\">\n",
       "  <thead>\n",
       "    <tr style=\"text-align: right;\">\n",
       "      <th></th>\n",
       "      <th>Y house price of unit area</th>\n",
       "    </tr>\n",
       "  </thead>\n",
       "  <tbody>\n",
       "    <tr>\n",
       "      <th>0</th>\n",
       "      <td>37.9</td>\n",
       "    </tr>\n",
       "    <tr>\n",
       "      <th>1</th>\n",
       "      <td>42.2</td>\n",
       "    </tr>\n",
       "    <tr>\n",
       "      <th>2</th>\n",
       "      <td>47.3</td>\n",
       "    </tr>\n",
       "    <tr>\n",
       "      <th>3</th>\n",
       "      <td>54.8</td>\n",
       "    </tr>\n",
       "    <tr>\n",
       "      <th>4</th>\n",
       "      <td>43.1</td>\n",
       "    </tr>\n",
       "  </tbody>\n",
       "</table>\n",
       "</div>"
      ],
      "text/plain": [
       "   Y house price of unit area\n",
       "0                        37.9\n",
       "1                        42.2\n",
       "2                        47.3\n",
       "3                        54.8\n",
       "4                        43.1"
      ]
     },
     "execution_count": 4,
     "metadata": {},
     "output_type": "execute_result"
    }
   ],
   "source": [
    "y = df.iloc[:,[-1]]\n",
    "y.head()"
   ]
  },
  {
   "cell_type": "markdown",
   "metadata": {
    "colab_type": "text",
    "id": "TySPHoBxJi3L"
   },
   "source": [
    "# Splitting of Dataset"
   ]
  },
  {
   "cell_type": "code",
   "execution_count": 5,
   "metadata": {
    "colab": {
     "base_uri": "https://localhost:8080/",
     "height": 35
    },
    "colab_type": "code",
    "id": "OyGVJ2y7Jm24",
    "outputId": "7ff68e4f-9fe2-4488-837e-3615cdf6a9f5"
   },
   "outputs": [
    {
     "name": "stdout",
     "output_type": "stream",
     "text": [
      "(310, 5) (104, 5)\n"
     ]
    }
   ],
   "source": [
    "X_train,X_val,y_train, y_val = train_test_split(X, y, test_size = 0.25,random_state=0)\n",
    "print(X_train.shape,X_val.shape)"
   ]
  },
  {
   "cell_type": "code",
   "execution_count": 6,
   "metadata": {
    "colab": {},
    "colab_type": "code",
    "id": "s8nwiIwgOtBR"
   },
   "outputs": [],
   "source": [
    "y_train, y_val = y_train.to_numpy(), y_val.to_numpy()"
   ]
  },
  {
   "cell_type": "code",
   "execution_count": 7,
   "metadata": {
    "colab": {
     "base_uri": "https://localhost:8080/",
     "height": 35
    },
    "colab_type": "code",
    "id": "TD2JYQSkO5RO",
    "outputId": "72a449f5-11d6-4085-b2bf-9339dcf8505c"
   },
   "outputs": [
    {
     "data": {
      "text/plain": [
       "(310, 1)"
      ]
     },
     "execution_count": 7,
     "metadata": {},
     "output_type": "execute_result"
    }
   ],
   "source": [
    "y_train.shape"
   ]
  },
  {
   "cell_type": "markdown",
   "metadata": {
    "colab_type": "text",
    "id": "nVrPbI7wI1b5"
   },
   "source": [
    "# Adding Polynomial Features"
   ]
  },
  {
   "cell_type": "code",
   "execution_count": 9,
   "metadata": {
    "colab": {
     "base_uri": "https://localhost:8080/",
     "height": 35
    },
    "colab_type": "code",
    "id": "MA7Yb2xkIoL1",
    "outputId": "05a3a68c-101e-494f-fd4e-2fefcc97a19a"
   },
   "outputs": [
    {
     "name": "stdout",
     "output_type": "stream",
     "text": [
      "(310, 252)\n"
     ]
    }
   ],
   "source": [
    "degree = 5\n",
    "poly = PolynomialFeatures(degree)\n",
    "X_train_poly = poly.fit_transform(X_train)\n",
    "X_val_poly = poly.transform(X_val)\n",
    "print(X_train_poly.shape)"
   ]
  },
  {
   "cell_type": "markdown",
   "metadata": {
    "colab_type": "text",
    "id": "Et460fMiG0Yq"
   },
   "source": [
    "# Feature Scaling"
   ]
  },
  {
   "cell_type": "code",
   "execution_count": 10,
   "metadata": {
    "colab": {},
    "colab_type": "code",
    "id": "qX-vjGhgGgSC"
   },
   "outputs": [],
   "source": [
    "sc = StandardScaler()\n",
    "sc.fit(X_train_poly)\n",
    "X_train_scaled = sc.transform(X_train_poly)\n",
    "X_val_scaled = sc.transform(X_val_poly)"
   ]
  },
  {
   "cell_type": "code",
   "execution_count": 11,
   "metadata": {
    "colab": {
     "base_uri": "https://localhost:8080/",
     "height": 202
    },
    "colab_type": "code",
    "id": "WZ2tHbI_G59g",
    "outputId": "986fb32a-9aa3-4133-8294-fa1548e802a0"
   },
   "outputs": [
    {
     "data": {
      "text/plain": [
       "array([[ 0.        , -0.40538356, -0.72684272, ...,  0.2496308 ,\n",
       "         0.10215794, -0.20906313],\n",
       "       [ 0.        , -0.52936105,  0.19272947, ..., -0.80025317,\n",
       "        -0.20476421,  1.0018216 ],\n",
       "       [ 0.        ,  1.42771227, -0.58273643, ...,  0.37890681,\n",
       "         0.45446382,  0.49226172],\n",
       "       [ 0.        ,  1.2594571 ,  3.44855944, ..., -2.15162301,\n",
       "        -2.71066635, -3.14892377],\n",
       "       [ 0.        ,  1.5871119 , -0.62407855, ...,  0.2615843 ,\n",
       "         0.37256923,  0.49876869]])"
      ]
     },
     "execution_count": 11,
     "metadata": {},
     "output_type": "execute_result"
    }
   ],
   "source": [
    "X_train_scaled[:5]"
   ]
  },
  {
   "cell_type": "markdown",
   "metadata": {
    "colab_type": "text",
    "id": "cAE1z6EANgZs"
   },
   "source": [
    "# Training"
   ]
  },
  {
   "cell_type": "code",
   "execution_count": 12,
   "metadata": {
    "colab": {
     "base_uri": "https://localhost:8080/",
     "height": 54
    },
    "colab_type": "code",
    "id": "7KUuJVeqNc2X",
    "outputId": "44878260-6cc8-4419-e6a3-e99f25c56db6"
   },
   "outputs": [
    {
     "data": {
      "text/plain": [
       "Ridge(alpha=10, copy_X=True, fit_intercept=True, max_iter=None, normalize=False,\n",
       "      random_state=None, solver='auto', tol=0.001)"
      ]
     },
     "execution_count": 12,
     "metadata": {},
     "output_type": "execute_result"
    }
   ],
   "source": [
    "model = Ridge(alpha=10)\n",
    "model.fit(X_train_scaled,y_train)"
   ]
  },
  {
   "cell_type": "code",
   "execution_count": 13,
   "metadata": {
    "colab": {
     "base_uri": "https://localhost:8080/",
     "height": 35
    },
    "colab_type": "code",
    "id": "gztCOi8NN0uX",
    "outputId": "cf51a943-5998-47f8-930a-68ccdbe8bfb8"
   },
   "outputs": [
    {
     "name": "stdout",
     "output_type": "stream",
     "text": [
      "Train Score:  0.6715537733322565\n"
     ]
    }
   ],
   "source": [
    "train_score = model.score(X_train_scaled,y_train)\n",
    "print(\"Train Score: \",train_score)"
   ]
  },
  {
   "cell_type": "code",
   "execution_count": 14,
   "metadata": {
    "colab": {
     "base_uri": "https://localhost:8080/",
     "height": 35
    },
    "colab_type": "code",
    "id": "TiF7NzE1OHeX",
    "outputId": "8281f139-507d-452b-ca7a-91ac95558145"
   },
   "outputs": [
    {
     "name": "stdout",
     "output_type": "stream",
     "text": [
      "Val Score:  0.7110214795994956\n"
     ]
    }
   ],
   "source": [
    "val_score = model.score(X_val_scaled,y_val)\n",
    "print(\"Val Score: \",val_score)"
   ]
  },
  {
   "cell_type": "markdown",
   "metadata": {
    "colab_type": "text",
    "id": "NEn4BmQJPIhL"
   },
   "source": [
    "# HyperParameter Tuning"
   ]
  },
  {
   "cell_type": "code",
   "execution_count": 15,
   "metadata": {
    "colab": {},
    "colab_type": "code",
    "id": "AyaKVJCQOkUY"
   },
   "outputs": [],
   "source": [
    "params={}\n",
    "params['degrees']=[1,2,3,4,5,6,7,8,9,10]\n",
    "params['alpha'] = [0.01,0.1,10,50]"
   ]
  },
  {
   "cell_type": "code",
   "execution_count": 16,
   "metadata": {
    "colab": {},
    "colab_type": "code",
    "id": "syUkq_JKPc0p"
   },
   "outputs": [],
   "source": [
    "\n",
    "def fit(X_train_scaled,y_train,X_val_scaled,y_val,degree,alpha,grid_search=False,exp_name=None):\n",
    "    poly = PolynomialFeatures(degree)\n",
    "    X_train_poly = poly.fit_transform(X_train)\n",
    "    X_val_poly = poly.transform(X_val)\n",
    "\n",
    "    sc = StandardScaler()\n",
    "    sc.fit(X_train_poly)\n",
    "    X_train_scaled = sc.transform(X_train_poly)\n",
    "    X_val_scaled = sc.transform(X_val_poly)\n",
    "\n",
    "    model = Ridge(alpha)\n",
    "    model.fit(X_train_scaled,y_train)\n",
    "\n",
    "    train_score = model.score(X_train_scaled,y_train)\n",
    "    val_score = model.score(X_val_scaled,y_val)\n",
    " \n",
    "    if grid_search:\n",
    "        scores = [exp_name, degree, alpha, train_score, val_score]\n",
    "        return scores\n",
    "    else:\n",
    "        print('Train Score: ',train_score)\n",
    "        print('Val Score: ',val_score)\n",
    "        return model,poly,sc\n"
   ]
  },
  {
   "cell_type": "code",
   "execution_count": 18,
   "metadata": {
    "colab": {},
    "colab_type": "code",
    "id": "SVoaL2oqTMok"
   },
   "outputs": [],
   "source": [
    "from tqdm.notebook import tqdm"
   ]
  },
  {
   "cell_type": "code",
   "execution_count": 19,
   "metadata": {
    "colab": {
     "base_uri": "https://localhost:8080/",
     "height": 806,
     "referenced_widgets": [
      "2d18b4082e564775a83d3f7e7e7e1a7c",
      "5ff3f99cf7214d3687a89432e6b5f8c0",
      "fc9fa4ed218148f6b206d3f081d39410",
      "5c92db6802b44c33bc3ebddb67e179d7",
      "5bf2e170172a4a6e9733bd3bb3776cf6",
      "7e9d67af68104aa5a924a9f94bc53dff",
      "b1aa3d9a9f1e4181bb92d998c24603c8",
      "3027bb51d04d4b53b4714328d8cfa66e"
     ]
    },
    "colab_type": "code",
    "id": "kaoZwUVgSWd1",
    "outputId": "2eb7c805-0829-44e2-87af-53b0919db8e1"
   },
   "outputs": [
    {
     "data": {
      "application/vnd.jupyter.widget-view+json": {
       "model_id": "22d8ead3699c4de8affc5c7c2ed65d10",
       "version_major": 2,
       "version_minor": 0
      },
      "text/plain": [
       "HBox(children=(FloatProgress(value=0.0, max=10.0), HTML(value='')))"
      ]
     },
     "metadata": {},
     "output_type": "display_data"
    },
    {
     "name": "stdout",
     "output_type": "stream",
     "text": [
      "\n"
     ]
    },
    {
     "data": {
      "text/plain": [
       "[['exp 1', 1, 0.01, 0.5661037392193291, 0.5824202335490526],\n",
       " ['exp 2', 1, 0.1, 0.5661036913291901, 0.5824036772605665],\n",
       " ['exp 3', 1, 10, 0.5657325946167264, 0.5804194642416134],\n",
       " ['exp 4', 1, 50, 0.5611232949063896, 0.5716536131300797],\n",
       " ['exp 5', 2, 0.01, 0.6560162137085348, 0.6946251877461778],\n",
       " ['exp 6', 2, 0.1, 0.6559537578122272, 0.694494650881399],\n",
       " ['exp 7', 2, 10, 0.6500332503073072, 0.6801344553559698],\n",
       " ['exp 8', 2, 50, 0.6276464890360869, 0.6487425456400318],\n",
       " ['exp 9', 3, 0.01, 0.6711738586039478, 0.7145761353867587],\n",
       " ['exp 10', 3, 0.1, 0.6707474446204871, 0.7130162368683199],\n",
       " ['exp 11', 3, 10, 0.6588627778204434, 0.6939922664376099],\n",
       " ['exp 12', 3, 50, 0.6488949059997777, 0.6807515985156259],\n",
       " ['exp 13', 4, 0.01, 0.6901762471245859, 0.707835881569176],\n",
       " ['exp 14', 4, 0.1, 0.684136395643228, 0.7135795518746713],\n",
       " ['exp 15', 4, 10, 0.6654353743946166, 0.7022937651232968],\n",
       " ['exp 16', 4, 50, 0.6573222581900839, 0.69071552322231],\n",
       " ['exp 17', 5, 0.01, 0.7167452532338521, 0.7068502569583135],\n",
       " ['exp 18', 5, 0.1, 0.7036670226329662, 0.7178132290305868],\n",
       " ['exp 19', 5, 10, 0.6715537733322565, 0.7110214795994956],\n",
       " ['exp 20', 5, 50, 0.6629137528456083, 0.6977594494210528],\n",
       " ['exp 21', 6, 0.01, 0.7347081361186284, 0.6994331681207024],\n",
       " ['exp 22', 6, 0.1, 0.7150396863276417, 0.7105227683069133],\n",
       " ['exp 23', 6, 10, 0.6789570765093422, 0.7196548589460274],\n",
       " ['exp 24', 6, 50, 0.6684817594223412, 0.7061072080584281],\n",
       " ['exp 25', 7, 0.01, 0.7518607102257201, 0.6965245393489712],\n",
       " ['exp 26', 7, 0.1, 0.7251768771701527, 0.7032747739592287],\n",
       " ['exp 27', 7, 10, 0.6864300175711083, 0.7252745544396578],\n",
       " ['exp 28', 7, 50, 0.6741088399611866, 0.7144231753917187],\n",
       " ['exp 29', 8, 0.01, 0.7670015673911015, 0.6904074189917],\n",
       " ['exp 30', 8, 0.1, 0.7375589243003793, 0.695663779959938],\n",
       " ['exp 31', 8, 10, 0.6942452365630805, 0.7280057578234838],\n",
       " ['exp 32', 8, 50, 0.6791440114000867, 0.7205779302794741],\n",
       " ['exp 33', 9, 0.01, 0.7796510074421027, 0.6740752700418],\n",
       " ['exp 34', 9, 0.1, 0.7496745158397804, 0.6879190137762604],\n",
       " ['exp 35', 9, 10, 0.7014622650275406, 0.727545204509392],\n",
       " ['exp 36', 9, 50, 0.6843258814778312, 0.7249175688099907],\n",
       " ['exp 37', 10, 0.01, 0.7927018752214592, 0.6103755137670284],\n",
       " ['exp 38', 10, 0.1, 0.7605046647557501, 0.6823735714297168],\n",
       " ['exp 39', 10, 10, 0.7076356797707197, 0.7249365606083833],\n",
       " ['exp 40', 10, 50, 0.6899889974852175, 0.7279421849922296]]"
      ]
     },
     "execution_count": 19,
     "metadata": {},
     "output_type": "execute_result"
    }
   ],
   "source": [
    "result=[]\n",
    "exp_id = 1\n",
    "for i in tqdm(range(len(params['degrees']))):\n",
    "    degree = params['degrees'][i]\n",
    "    for j in range(len(params['alpha'])):\n",
    "        alpha = params['alpha'][j]\n",
    "        exp_name='exp '+str(exp_id)\n",
    "        exp_id+=1\n",
    "        result.append(fit(X_train_scaled,y_train,X_val_scaled,y_val,degree,alpha,grid_search=True,exp_name=exp_name))\n",
    "result"
   ]
  },
  {
   "cell_type": "code",
   "execution_count": 20,
   "metadata": {
    "colab": {
     "base_uri": "https://localhost:8080/",
     "height": 1000
    },
    "colab_type": "code",
    "id": "rXPSuP2bTrE3",
    "outputId": "63043455-2cd8-49b6-b17c-12cd0c4bc6f8"
   },
   "outputs": [
    {
     "data": {
      "text/html": [
       "<div>\n",
       "<style scoped>\n",
       "    .dataframe tbody tr th:only-of-type {\n",
       "        vertical-align: middle;\n",
       "    }\n",
       "\n",
       "    .dataframe tbody tr th {\n",
       "        vertical-align: top;\n",
       "    }\n",
       "\n",
       "    .dataframe thead th {\n",
       "        text-align: right;\n",
       "    }\n",
       "</style>\n",
       "<table border=\"1\" class=\"dataframe\">\n",
       "  <thead>\n",
       "    <tr style=\"text-align: right;\">\n",
       "      <th></th>\n",
       "      <th>Experiment_id</th>\n",
       "      <th>Degree</th>\n",
       "      <th>Alpha</th>\n",
       "      <th>Train Score</th>\n",
       "      <th>Val Score</th>\n",
       "    </tr>\n",
       "  </thead>\n",
       "  <tbody>\n",
       "    <tr>\n",
       "      <th>0</th>\n",
       "      <td>exp 1</td>\n",
       "      <td>1</td>\n",
       "      <td>0.01</td>\n",
       "      <td>0.566104</td>\n",
       "      <td>0.582420</td>\n",
       "    </tr>\n",
       "    <tr>\n",
       "      <th>1</th>\n",
       "      <td>exp 2</td>\n",
       "      <td>1</td>\n",
       "      <td>0.10</td>\n",
       "      <td>0.566104</td>\n",
       "      <td>0.582404</td>\n",
       "    </tr>\n",
       "    <tr>\n",
       "      <th>2</th>\n",
       "      <td>exp 3</td>\n",
       "      <td>1</td>\n",
       "      <td>10.00</td>\n",
       "      <td>0.565733</td>\n",
       "      <td>0.580419</td>\n",
       "    </tr>\n",
       "    <tr>\n",
       "      <th>3</th>\n",
       "      <td>exp 4</td>\n",
       "      <td>1</td>\n",
       "      <td>50.00</td>\n",
       "      <td>0.561123</td>\n",
       "      <td>0.571654</td>\n",
       "    </tr>\n",
       "    <tr>\n",
       "      <th>4</th>\n",
       "      <td>exp 5</td>\n",
       "      <td>2</td>\n",
       "      <td>0.01</td>\n",
       "      <td>0.656016</td>\n",
       "      <td>0.694625</td>\n",
       "    </tr>\n",
       "    <tr>\n",
       "      <th>5</th>\n",
       "      <td>exp 6</td>\n",
       "      <td>2</td>\n",
       "      <td>0.10</td>\n",
       "      <td>0.655954</td>\n",
       "      <td>0.694495</td>\n",
       "    </tr>\n",
       "    <tr>\n",
       "      <th>6</th>\n",
       "      <td>exp 7</td>\n",
       "      <td>2</td>\n",
       "      <td>10.00</td>\n",
       "      <td>0.650033</td>\n",
       "      <td>0.680134</td>\n",
       "    </tr>\n",
       "    <tr>\n",
       "      <th>7</th>\n",
       "      <td>exp 8</td>\n",
       "      <td>2</td>\n",
       "      <td>50.00</td>\n",
       "      <td>0.627646</td>\n",
       "      <td>0.648743</td>\n",
       "    </tr>\n",
       "    <tr>\n",
       "      <th>8</th>\n",
       "      <td>exp 9</td>\n",
       "      <td>3</td>\n",
       "      <td>0.01</td>\n",
       "      <td>0.671174</td>\n",
       "      <td>0.714576</td>\n",
       "    </tr>\n",
       "    <tr>\n",
       "      <th>9</th>\n",
       "      <td>exp 10</td>\n",
       "      <td>3</td>\n",
       "      <td>0.10</td>\n",
       "      <td>0.670747</td>\n",
       "      <td>0.713016</td>\n",
       "    </tr>\n",
       "    <tr>\n",
       "      <th>10</th>\n",
       "      <td>exp 11</td>\n",
       "      <td>3</td>\n",
       "      <td>10.00</td>\n",
       "      <td>0.658863</td>\n",
       "      <td>0.693992</td>\n",
       "    </tr>\n",
       "    <tr>\n",
       "      <th>11</th>\n",
       "      <td>exp 12</td>\n",
       "      <td>3</td>\n",
       "      <td>50.00</td>\n",
       "      <td>0.648895</td>\n",
       "      <td>0.680752</td>\n",
       "    </tr>\n",
       "    <tr>\n",
       "      <th>12</th>\n",
       "      <td>exp 13</td>\n",
       "      <td>4</td>\n",
       "      <td>0.01</td>\n",
       "      <td>0.690176</td>\n",
       "      <td>0.707836</td>\n",
       "    </tr>\n",
       "    <tr>\n",
       "      <th>13</th>\n",
       "      <td>exp 14</td>\n",
       "      <td>4</td>\n",
       "      <td>0.10</td>\n",
       "      <td>0.684136</td>\n",
       "      <td>0.713580</td>\n",
       "    </tr>\n",
       "    <tr>\n",
       "      <th>14</th>\n",
       "      <td>exp 15</td>\n",
       "      <td>4</td>\n",
       "      <td>10.00</td>\n",
       "      <td>0.665435</td>\n",
       "      <td>0.702294</td>\n",
       "    </tr>\n",
       "    <tr>\n",
       "      <th>15</th>\n",
       "      <td>exp 16</td>\n",
       "      <td>4</td>\n",
       "      <td>50.00</td>\n",
       "      <td>0.657322</td>\n",
       "      <td>0.690716</td>\n",
       "    </tr>\n",
       "    <tr>\n",
       "      <th>16</th>\n",
       "      <td>exp 17</td>\n",
       "      <td>5</td>\n",
       "      <td>0.01</td>\n",
       "      <td>0.716745</td>\n",
       "      <td>0.706850</td>\n",
       "    </tr>\n",
       "    <tr>\n",
       "      <th>17</th>\n",
       "      <td>exp 18</td>\n",
       "      <td>5</td>\n",
       "      <td>0.10</td>\n",
       "      <td>0.703667</td>\n",
       "      <td>0.717813</td>\n",
       "    </tr>\n",
       "    <tr>\n",
       "      <th>18</th>\n",
       "      <td>exp 19</td>\n",
       "      <td>5</td>\n",
       "      <td>10.00</td>\n",
       "      <td>0.671554</td>\n",
       "      <td>0.711021</td>\n",
       "    </tr>\n",
       "    <tr>\n",
       "      <th>19</th>\n",
       "      <td>exp 20</td>\n",
       "      <td>5</td>\n",
       "      <td>50.00</td>\n",
       "      <td>0.662914</td>\n",
       "      <td>0.697759</td>\n",
       "    </tr>\n",
       "    <tr>\n",
       "      <th>20</th>\n",
       "      <td>exp 21</td>\n",
       "      <td>6</td>\n",
       "      <td>0.01</td>\n",
       "      <td>0.734708</td>\n",
       "      <td>0.699433</td>\n",
       "    </tr>\n",
       "    <tr>\n",
       "      <th>21</th>\n",
       "      <td>exp 22</td>\n",
       "      <td>6</td>\n",
       "      <td>0.10</td>\n",
       "      <td>0.715040</td>\n",
       "      <td>0.710523</td>\n",
       "    </tr>\n",
       "    <tr>\n",
       "      <th>22</th>\n",
       "      <td>exp 23</td>\n",
       "      <td>6</td>\n",
       "      <td>10.00</td>\n",
       "      <td>0.678957</td>\n",
       "      <td>0.719655</td>\n",
       "    </tr>\n",
       "    <tr>\n",
       "      <th>23</th>\n",
       "      <td>exp 24</td>\n",
       "      <td>6</td>\n",
       "      <td>50.00</td>\n",
       "      <td>0.668482</td>\n",
       "      <td>0.706107</td>\n",
       "    </tr>\n",
       "    <tr>\n",
       "      <th>24</th>\n",
       "      <td>exp 25</td>\n",
       "      <td>7</td>\n",
       "      <td>0.01</td>\n",
       "      <td>0.751861</td>\n",
       "      <td>0.696525</td>\n",
       "    </tr>\n",
       "    <tr>\n",
       "      <th>25</th>\n",
       "      <td>exp 26</td>\n",
       "      <td>7</td>\n",
       "      <td>0.10</td>\n",
       "      <td>0.725177</td>\n",
       "      <td>0.703275</td>\n",
       "    </tr>\n",
       "    <tr>\n",
       "      <th>26</th>\n",
       "      <td>exp 27</td>\n",
       "      <td>7</td>\n",
       "      <td>10.00</td>\n",
       "      <td>0.686430</td>\n",
       "      <td>0.725275</td>\n",
       "    </tr>\n",
       "    <tr>\n",
       "      <th>27</th>\n",
       "      <td>exp 28</td>\n",
       "      <td>7</td>\n",
       "      <td>50.00</td>\n",
       "      <td>0.674109</td>\n",
       "      <td>0.714423</td>\n",
       "    </tr>\n",
       "    <tr>\n",
       "      <th>28</th>\n",
       "      <td>exp 29</td>\n",
       "      <td>8</td>\n",
       "      <td>0.01</td>\n",
       "      <td>0.767002</td>\n",
       "      <td>0.690407</td>\n",
       "    </tr>\n",
       "    <tr>\n",
       "      <th>29</th>\n",
       "      <td>exp 30</td>\n",
       "      <td>8</td>\n",
       "      <td>0.10</td>\n",
       "      <td>0.737559</td>\n",
       "      <td>0.695664</td>\n",
       "    </tr>\n",
       "    <tr>\n",
       "      <th>30</th>\n",
       "      <td>exp 31</td>\n",
       "      <td>8</td>\n",
       "      <td>10.00</td>\n",
       "      <td>0.694245</td>\n",
       "      <td>0.728006</td>\n",
       "    </tr>\n",
       "    <tr>\n",
       "      <th>31</th>\n",
       "      <td>exp 32</td>\n",
       "      <td>8</td>\n",
       "      <td>50.00</td>\n",
       "      <td>0.679144</td>\n",
       "      <td>0.720578</td>\n",
       "    </tr>\n",
       "    <tr>\n",
       "      <th>32</th>\n",
       "      <td>exp 33</td>\n",
       "      <td>9</td>\n",
       "      <td>0.01</td>\n",
       "      <td>0.779651</td>\n",
       "      <td>0.674075</td>\n",
       "    </tr>\n",
       "    <tr>\n",
       "      <th>33</th>\n",
       "      <td>exp 34</td>\n",
       "      <td>9</td>\n",
       "      <td>0.10</td>\n",
       "      <td>0.749675</td>\n",
       "      <td>0.687919</td>\n",
       "    </tr>\n",
       "    <tr>\n",
       "      <th>34</th>\n",
       "      <td>exp 35</td>\n",
       "      <td>9</td>\n",
       "      <td>10.00</td>\n",
       "      <td>0.701462</td>\n",
       "      <td>0.727545</td>\n",
       "    </tr>\n",
       "    <tr>\n",
       "      <th>35</th>\n",
       "      <td>exp 36</td>\n",
       "      <td>9</td>\n",
       "      <td>50.00</td>\n",
       "      <td>0.684326</td>\n",
       "      <td>0.724918</td>\n",
       "    </tr>\n",
       "    <tr>\n",
       "      <th>36</th>\n",
       "      <td>exp 37</td>\n",
       "      <td>10</td>\n",
       "      <td>0.01</td>\n",
       "      <td>0.792702</td>\n",
       "      <td>0.610376</td>\n",
       "    </tr>\n",
       "    <tr>\n",
       "      <th>37</th>\n",
       "      <td>exp 38</td>\n",
       "      <td>10</td>\n",
       "      <td>0.10</td>\n",
       "      <td>0.760505</td>\n",
       "      <td>0.682374</td>\n",
       "    </tr>\n",
       "    <tr>\n",
       "      <th>38</th>\n",
       "      <td>exp 39</td>\n",
       "      <td>10</td>\n",
       "      <td>10.00</td>\n",
       "      <td>0.707636</td>\n",
       "      <td>0.724937</td>\n",
       "    </tr>\n",
       "    <tr>\n",
       "      <th>39</th>\n",
       "      <td>exp 40</td>\n",
       "      <td>10</td>\n",
       "      <td>50.00</td>\n",
       "      <td>0.689989</td>\n",
       "      <td>0.727942</td>\n",
       "    </tr>\n",
       "  </tbody>\n",
       "</table>\n",
       "</div>"
      ],
      "text/plain": [
       "   Experiment_id  Degree  Alpha  Train Score  Val Score\n",
       "0          exp 1       1   0.01     0.566104   0.582420\n",
       "1          exp 2       1   0.10     0.566104   0.582404\n",
       "2          exp 3       1  10.00     0.565733   0.580419\n",
       "3          exp 4       1  50.00     0.561123   0.571654\n",
       "4          exp 5       2   0.01     0.656016   0.694625\n",
       "5          exp 6       2   0.10     0.655954   0.694495\n",
       "6          exp 7       2  10.00     0.650033   0.680134\n",
       "7          exp 8       2  50.00     0.627646   0.648743\n",
       "8          exp 9       3   0.01     0.671174   0.714576\n",
       "9         exp 10       3   0.10     0.670747   0.713016\n",
       "10        exp 11       3  10.00     0.658863   0.693992\n",
       "11        exp 12       3  50.00     0.648895   0.680752\n",
       "12        exp 13       4   0.01     0.690176   0.707836\n",
       "13        exp 14       4   0.10     0.684136   0.713580\n",
       "14        exp 15       4  10.00     0.665435   0.702294\n",
       "15        exp 16       4  50.00     0.657322   0.690716\n",
       "16        exp 17       5   0.01     0.716745   0.706850\n",
       "17        exp 18       5   0.10     0.703667   0.717813\n",
       "18        exp 19       5  10.00     0.671554   0.711021\n",
       "19        exp 20       5  50.00     0.662914   0.697759\n",
       "20        exp 21       6   0.01     0.734708   0.699433\n",
       "21        exp 22       6   0.10     0.715040   0.710523\n",
       "22        exp 23       6  10.00     0.678957   0.719655\n",
       "23        exp 24       6  50.00     0.668482   0.706107\n",
       "24        exp 25       7   0.01     0.751861   0.696525\n",
       "25        exp 26       7   0.10     0.725177   0.703275\n",
       "26        exp 27       7  10.00     0.686430   0.725275\n",
       "27        exp 28       7  50.00     0.674109   0.714423\n",
       "28        exp 29       8   0.01     0.767002   0.690407\n",
       "29        exp 30       8   0.10     0.737559   0.695664\n",
       "30        exp 31       8  10.00     0.694245   0.728006\n",
       "31        exp 32       8  50.00     0.679144   0.720578\n",
       "32        exp 33       9   0.01     0.779651   0.674075\n",
       "33        exp 34       9   0.10     0.749675   0.687919\n",
       "34        exp 35       9  10.00     0.701462   0.727545\n",
       "35        exp 36       9  50.00     0.684326   0.724918\n",
       "36        exp 37      10   0.01     0.792702   0.610376\n",
       "37        exp 38      10   0.10     0.760505   0.682374\n",
       "38        exp 39      10  10.00     0.707636   0.724937\n",
       "39        exp 40      10  50.00     0.689989   0.727942"
      ]
     },
     "execution_count": 20,
     "metadata": {},
     "output_type": "execute_result"
    }
   ],
   "source": [
    "result_df=pd.DataFrame(result,columns=['Experiment_id','Degree','Alpha','Train Score','Val Score'])\n",
    "result_df"
   ]
  },
  {
   "cell_type": "code",
   "execution_count": 22,
   "metadata": {
    "colab": {
     "base_uri": "https://localhost:8080/",
     "height": 366
    },
    "colab_type": "code",
    "id": "mcO4Sz4TT7G9",
    "outputId": "c150ab97-3424-48bf-e66a-d995732cf61f"
   },
   "outputs": [
    {
     "data": {
      "image/png": "[encoded data removed]",
      "text/plain": [
       "<Figure size 720x360 with 1 Axes>"
      ]
     },
     "metadata": {},
     "output_type": "display_data"
    }
   ],
   "source": [
    "plt.figure(figsize=(10,5), facecolor='white')\n",
    "plt.title(\"R2 Score\")\n",
    "plt.plot(result_df['Train Score'],marker='o',label = 'Train Score')\n",
    "plt.plot(result_df['Val Score'],marker='o', label = 'Val Score')\n",
    "plt.xticks(list(range(len(result_df))),result_df['Experiment_id'],rotation=90)\n",
    "plt.ylabel('Score')\n",
    "plt.ylim((0.5,0.9))\n",
    "plt.legend()\n",
    "plt.show()"
   ]
  },
  {
   "cell_type": "code",
   "execution_count": 23,
   "metadata": {
    "colab": {
     "base_uri": "https://localhost:8080/",
     "height": 1000
    },
    "colab_type": "code",
    "id": "zXmJsmIMUtVz",
    "outputId": "e7fc52c2-e3b7-4a36-a807-0149802e205e"
   },
   "outputs": [
    {
     "data": {
      "text/html": [
       "<div>\n",
       "<style scoped>\n",
       "    .dataframe tbody tr th:only-of-type {\n",
       "        vertical-align: middle;\n",
       "    }\n",
       "\n",
       "    .dataframe tbody tr th {\n",
       "        vertical-align: top;\n",
       "    }\n",
       "\n",
       "    .dataframe thead th {\n",
       "        text-align: right;\n",
       "    }\n",
       "</style>\n",
       "<table border=\"1\" class=\"dataframe\">\n",
       "  <thead>\n",
       "    <tr style=\"text-align: right;\">\n",
       "      <th></th>\n",
       "      <th>Experiment_id</th>\n",
       "      <th>Degree</th>\n",
       "      <th>Alpha</th>\n",
       "      <th>Train Score</th>\n",
       "      <th>Val Score</th>\n",
       "    </tr>\n",
       "  </thead>\n",
       "  <tbody>\n",
       "    <tr>\n",
       "      <th>30</th>\n",
       "      <td>exp 31</td>\n",
       "      <td>8</td>\n",
       "      <td>10.00</td>\n",
       "      <td>0.694245</td>\n",
       "      <td>0.728006</td>\n",
       "    </tr>\n",
       "    <tr>\n",
       "      <th>39</th>\n",
       "      <td>exp 40</td>\n",
       "      <td>10</td>\n",
       "      <td>50.00</td>\n",
       "      <td>0.689989</td>\n",
       "      <td>0.727942</td>\n",
       "    </tr>\n",
       "    <tr>\n",
       "      <th>34</th>\n",
       "      <td>exp 35</td>\n",
       "      <td>9</td>\n",
       "      <td>10.00</td>\n",
       "      <td>0.701462</td>\n",
       "      <td>0.727545</td>\n",
       "    </tr>\n",
       "    <tr>\n",
       "      <th>26</th>\n",
       "      <td>exp 27</td>\n",
       "      <td>7</td>\n",
       "      <td>10.00</td>\n",
       "      <td>0.686430</td>\n",
       "      <td>0.725275</td>\n",
       "    </tr>\n",
       "    <tr>\n",
       "      <th>38</th>\n",
       "      <td>exp 39</td>\n",
       "      <td>10</td>\n",
       "      <td>10.00</td>\n",
       "      <td>0.707636</td>\n",
       "      <td>0.724937</td>\n",
       "    </tr>\n",
       "    <tr>\n",
       "      <th>35</th>\n",
       "      <td>exp 36</td>\n",
       "      <td>9</td>\n",
       "      <td>50.00</td>\n",
       "      <td>0.684326</td>\n",
       "      <td>0.724918</td>\n",
       "    </tr>\n",
       "    <tr>\n",
       "      <th>31</th>\n",
       "      <td>exp 32</td>\n",
       "      <td>8</td>\n",
       "      <td>50.00</td>\n",
       "      <td>0.679144</td>\n",
       "      <td>0.720578</td>\n",
       "    </tr>\n",
       "    <tr>\n",
       "      <th>22</th>\n",
       "      <td>exp 23</td>\n",
       "      <td>6</td>\n",
       "      <td>10.00</td>\n",
       "      <td>0.678957</td>\n",
       "      <td>0.719655</td>\n",
       "    </tr>\n",
       "    <tr>\n",
       "      <th>17</th>\n",
       "      <td>exp 18</td>\n",
       "      <td>5</td>\n",
       "      <td>0.10</td>\n",
       "      <td>0.703667</td>\n",
       "      <td>0.717813</td>\n",
       "    </tr>\n",
       "    <tr>\n",
       "      <th>8</th>\n",
       "      <td>exp 9</td>\n",
       "      <td>3</td>\n",
       "      <td>0.01</td>\n",
       "      <td>0.671174</td>\n",
       "      <td>0.714576</td>\n",
       "    </tr>\n",
       "    <tr>\n",
       "      <th>27</th>\n",
       "      <td>exp 28</td>\n",
       "      <td>7</td>\n",
       "      <td>50.00</td>\n",
       "      <td>0.674109</td>\n",
       "      <td>0.714423</td>\n",
       "    </tr>\n",
       "    <tr>\n",
       "      <th>13</th>\n",
       "      <td>exp 14</td>\n",
       "      <td>4</td>\n",
       "      <td>0.10</td>\n",
       "      <td>0.684136</td>\n",
       "      <td>0.713580</td>\n",
       "    </tr>\n",
       "    <tr>\n",
       "      <th>9</th>\n",
       "      <td>exp 10</td>\n",
       "      <td>3</td>\n",
       "      <td>0.10</td>\n",
       "      <td>0.670747</td>\n",
       "      <td>0.713016</td>\n",
       "    </tr>\n",
       "    <tr>\n",
       "      <th>18</th>\n",
       "      <td>exp 19</td>\n",
       "      <td>5</td>\n",
       "      <td>10.00</td>\n",
       "      <td>0.671554</td>\n",
       "      <td>0.711021</td>\n",
       "    </tr>\n",
       "    <tr>\n",
       "      <th>21</th>\n",
       "      <td>exp 22</td>\n",
       "      <td>6</td>\n",
       "      <td>0.10</td>\n",
       "      <td>0.715040</td>\n",
       "      <td>0.710523</td>\n",
       "    </tr>\n",
       "    <tr>\n",
       "      <th>12</th>\n",
       "      <td>exp 13</td>\n",
       "      <td>4</td>\n",
       "      <td>0.01</td>\n",
       "      <td>0.690176</td>\n",
       "      <td>0.707836</td>\n",
       "    </tr>\n",
       "    <tr>\n",
       "      <th>16</th>\n",
       "      <td>exp 17</td>\n",
       "      <td>5</td>\n",
       "      <td>0.01</td>\n",
       "      <td>0.716745</td>\n",
       "      <td>0.706850</td>\n",
       "    </tr>\n",
       "    <tr>\n",
       "      <th>23</th>\n",
       "      <td>exp 24</td>\n",
       "      <td>6</td>\n",
       "      <td>50.00</td>\n",
       "      <td>0.668482</td>\n",
       "      <td>0.706107</td>\n",
       "    </tr>\n",
       "    <tr>\n",
       "      <th>25</th>\n",
       "      <td>exp 26</td>\n",
       "      <td>7</td>\n",
       "      <td>0.10</td>\n",
       "      <td>0.725177</td>\n",
       "      <td>0.703275</td>\n",
       "    </tr>\n",
       "    <tr>\n",
       "      <th>14</th>\n",
       "      <td>exp 15</td>\n",
       "      <td>4</td>\n",
       "      <td>10.00</td>\n",
       "      <td>0.665435</td>\n",
       "      <td>0.702294</td>\n",
       "    </tr>\n",
       "    <tr>\n",
       "      <th>20</th>\n",
       "      <td>exp 21</td>\n",
       "      <td>6</td>\n",
       "      <td>0.01</td>\n",
       "      <td>0.734708</td>\n",
       "      <td>0.699433</td>\n",
       "    </tr>\n",
       "    <tr>\n",
       "      <th>19</th>\n",
       "      <td>exp 20</td>\n",
       "      <td>5</td>\n",
       "      <td>50.00</td>\n",
       "      <td>0.662914</td>\n",
       "      <td>0.697759</td>\n",
       "    </tr>\n",
       "    <tr>\n",
       "      <th>24</th>\n",
       "      <td>exp 25</td>\n",
       "      <td>7</td>\n",
       "      <td>0.01</td>\n",
       "      <td>0.751861</td>\n",
       "      <td>0.696525</td>\n",
       "    </tr>\n",
       "    <tr>\n",
       "      <th>29</th>\n",
       "      <td>exp 30</td>\n",
       "      <td>8</td>\n",
       "      <td>0.10</td>\n",
       "      <td>0.737559</td>\n",
       "      <td>0.695664</td>\n",
       "    </tr>\n",
       "    <tr>\n",
       "      <th>4</th>\n",
       "      <td>exp 5</td>\n",
       "      <td>2</td>\n",
       "      <td>0.01</td>\n",
       "      <td>0.656016</td>\n",
       "      <td>0.694625</td>\n",
       "    </tr>\n",
       "    <tr>\n",
       "      <th>5</th>\n",
       "      <td>exp 6</td>\n",
       "      <td>2</td>\n",
       "      <td>0.10</td>\n",
       "      <td>0.655954</td>\n",
       "      <td>0.694495</td>\n",
       "    </tr>\n",
       "    <tr>\n",
       "      <th>10</th>\n",
       "      <td>exp 11</td>\n",
       "      <td>3</td>\n",
       "      <td>10.00</td>\n",
       "      <td>0.658863</td>\n",
       "      <td>0.693992</td>\n",
       "    </tr>\n",
       "    <tr>\n",
       "      <th>15</th>\n",
       "      <td>exp 16</td>\n",
       "      <td>4</td>\n",
       "      <td>50.00</td>\n",
       "      <td>0.657322</td>\n",
       "      <td>0.690716</td>\n",
       "    </tr>\n",
       "    <tr>\n",
       "      <th>28</th>\n",
       "      <td>exp 29</td>\n",
       "      <td>8</td>\n",
       "      <td>0.01</td>\n",
       "      <td>0.767002</td>\n",
       "      <td>0.690407</td>\n",
       "    </tr>\n",
       "    <tr>\n",
       "      <th>33</th>\n",
       "      <td>exp 34</td>\n",
       "      <td>9</td>\n",
       "      <td>0.10</td>\n",
       "      <td>0.749675</td>\n",
       "      <td>0.687919</td>\n",
       "    </tr>\n",
       "    <tr>\n",
       "      <th>37</th>\n",
       "      <td>exp 38</td>\n",
       "      <td>10</td>\n",
       "      <td>0.10</td>\n",
       "      <td>0.760505</td>\n",
       "      <td>0.682374</td>\n",
       "    </tr>\n",
       "    <tr>\n",
       "      <th>11</th>\n",
       "      <td>exp 12</td>\n",
       "      <td>3</td>\n",
       "      <td>50.00</td>\n",
       "      <td>0.648895</td>\n",
       "      <td>0.680752</td>\n",
       "    </tr>\n",
       "    <tr>\n",
       "      <th>6</th>\n",
       "      <td>exp 7</td>\n",
       "      <td>2</td>\n",
       "      <td>10.00</td>\n",
       "      <td>0.650033</td>\n",
       "      <td>0.680134</td>\n",
       "    </tr>\n",
       "    <tr>\n",
       "      <th>32</th>\n",
       "      <td>exp 33</td>\n",
       "      <td>9</td>\n",
       "      <td>0.01</td>\n",
       "      <td>0.779651</td>\n",
       "      <td>0.674075</td>\n",
       "    </tr>\n",
       "    <tr>\n",
       "      <th>7</th>\n",
       "      <td>exp 8</td>\n",
       "      <td>2</td>\n",
       "      <td>50.00</td>\n",
       "      <td>0.627646</td>\n",
       "      <td>0.648743</td>\n",
       "    </tr>\n",
       "    <tr>\n",
       "      <th>36</th>\n",
       "      <td>exp 37</td>\n",
       "      <td>10</td>\n",
       "      <td>0.01</td>\n",
       "      <td>0.792702</td>\n",
       "      <td>0.610376</td>\n",
       "    </tr>\n",
       "    <tr>\n",
       "      <th>0</th>\n",
       "      <td>exp 1</td>\n",
       "      <td>1</td>\n",
       "      <td>0.01</td>\n",
       "      <td>0.566104</td>\n",
       "      <td>0.582420</td>\n",
       "    </tr>\n",
       "    <tr>\n",
       "      <th>1</th>\n",
       "      <td>exp 2</td>\n",
       "      <td>1</td>\n",
       "      <td>0.10</td>\n",
       "      <td>0.566104</td>\n",
       "      <td>0.582404</td>\n",
       "    </tr>\n",
       "    <tr>\n",
       "      <th>2</th>\n",
       "      <td>exp 3</td>\n",
       "      <td>1</td>\n",
       "      <td>10.00</td>\n",
       "      <td>0.565733</td>\n",
       "      <td>0.580419</td>\n",
       "    </tr>\n",
       "    <tr>\n",
       "      <th>3</th>\n",
       "      <td>exp 4</td>\n",
       "      <td>1</td>\n",
       "      <td>50.00</td>\n",
       "      <td>0.561123</td>\n",
       "      <td>0.571654</td>\n",
       "    </tr>\n",
       "  </tbody>\n",
       "</table>\n",
       "</div>"
      ],
      "text/plain": [
       "   Experiment_id  Degree  Alpha  Train Score  Val Score\n",
       "30        exp 31       8  10.00     0.694245   0.728006\n",
       "39        exp 40      10  50.00     0.689989   0.727942\n",
       "34        exp 35       9  10.00     0.701462   0.727545\n",
       "26        exp 27       7  10.00     0.686430   0.725275\n",
       "38        exp 39      10  10.00     0.707636   0.724937\n",
       "35        exp 36       9  50.00     0.684326   0.724918\n",
       "31        exp 32       8  50.00     0.679144   0.720578\n",
       "22        exp 23       6  10.00     0.678957   0.719655\n",
       "17        exp 18       5   0.10     0.703667   0.717813\n",
       "8          exp 9       3   0.01     0.671174   0.714576\n",
       "27        exp 28       7  50.00     0.674109   0.714423\n",
       "13        exp 14       4   0.10     0.684136   0.713580\n",
       "9         exp 10       3   0.10     0.670747   0.713016\n",
       "18        exp 19       5  10.00     0.671554   0.711021\n",
       "21        exp 22       6   0.10     0.715040   0.710523\n",
       "12        exp 13       4   0.01     0.690176   0.707836\n",
       "16        exp 17       5   0.01     0.716745   0.706850\n",
       "23        exp 24       6  50.00     0.668482   0.706107\n",
       "25        exp 26       7   0.10     0.725177   0.703275\n",
       "14        exp 15       4  10.00     0.665435   0.702294\n",
       "20        exp 21       6   0.01     0.734708   0.699433\n",
       "19        exp 20       5  50.00     0.662914   0.697759\n",
       "24        exp 25       7   0.01     0.751861   0.696525\n",
       "29        exp 30       8   0.10     0.737559   0.695664\n",
       "4          exp 5       2   0.01     0.656016   0.694625\n",
       "5          exp 6       2   0.10     0.655954   0.694495\n",
       "10        exp 11       3  10.00     0.658863   0.693992\n",
       "15        exp 16       4  50.00     0.657322   0.690716\n",
       "28        exp 29       8   0.01     0.767002   0.690407\n",
       "33        exp 34       9   0.10     0.749675   0.687919\n",
       "37        exp 38      10   0.10     0.760505   0.682374\n",
       "11        exp 12       3  50.00     0.648895   0.680752\n",
       "6          exp 7       2  10.00     0.650033   0.680134\n",
       "32        exp 33       9   0.01     0.779651   0.674075\n",
       "7          exp 8       2  50.00     0.627646   0.648743\n",
       "36        exp 37      10   0.01     0.792702   0.610376\n",
       "0          exp 1       1   0.01     0.566104   0.582420\n",
       "1          exp 2       1   0.10     0.566104   0.582404\n",
       "2          exp 3       1  10.00     0.565733   0.580419\n",
       "3          exp 4       1  50.00     0.561123   0.571654"
      ]
     },
     "execution_count": 23,
     "metadata": {},
     "output_type": "execute_result"
    }
   ],
   "source": [
    "result_df.sort_values(by='Val Score', ascending=False)"
   ]
  },
  {
   "cell_type": "code",
   "execution_count": 24,
   "metadata": {
    "colab": {
     "base_uri": "https://localhost:8080/",
     "height": 80
    },
    "colab_type": "code",
    "id": "szRi9ZhESqsN",
    "outputId": "bace8299-5051-488c-f419-45c990cc957b"
   },
   "outputs": [
    {
     "data": {
      "text/html": [
       "<div>\n",
       "<style scoped>\n",
       "    .dataframe tbody tr th:only-of-type {\n",
       "        vertical-align: middle;\n",
       "    }\n",
       "\n",
       "    .dataframe tbody tr th {\n",
       "        vertical-align: top;\n",
       "    }\n",
       "\n",
       "    .dataframe thead th {\n",
       "        text-align: right;\n",
       "    }\n",
       "</style>\n",
       "<table border=\"1\" class=\"dataframe\">\n",
       "  <thead>\n",
       "    <tr style=\"text-align: right;\">\n",
       "      <th></th>\n",
       "      <th>Experiment_id</th>\n",
       "      <th>Degree</th>\n",
       "      <th>Alpha</th>\n",
       "      <th>Train Score</th>\n",
       "      <th>Val Score</th>\n",
       "    </tr>\n",
       "  </thead>\n",
       "  <tbody>\n",
       "    <tr>\n",
       "      <th>30</th>\n",
       "      <td>exp 31</td>\n",
       "      <td>8</td>\n",
       "      <td>10.0</td>\n",
       "      <td>0.694245</td>\n",
       "      <td>0.728006</td>\n",
       "    </tr>\n",
       "  </tbody>\n",
       "</table>\n",
       "</div>"
      ],
      "text/plain": [
       "   Experiment_id  Degree  Alpha  Train Score  Val Score\n",
       "30        exp 31       8   10.0     0.694245   0.728006"
      ]
     },
     "execution_count": 24,
     "metadata": {},
     "output_type": "execute_result"
    }
   ],
   "source": [
    "result_df.loc[result_df['Experiment_id'] == 'exp 31']"
   ]
  },
  {
   "cell_type": "markdown",
   "metadata": {
    "colab_type": "text",
    "id": "hyFZ68o_ddaT"
   },
   "source": [
    "# Training the model on selected hyperparameters"
   ]
  },
  {
   "cell_type": "code",
   "execution_count": 25,
   "metadata": {
    "colab": {
     "base_uri": "https://localhost:8080/",
     "height": 54
    },
    "colab_type": "code",
    "id": "ByuMMHKoZO8o",
    "outputId": "01be97f1-31d8-4a60-db35-3c5234b93ba5"
   },
   "outputs": [
    {
     "name": "stdout",
     "output_type": "stream",
     "text": [
      "Train Score:  0.6942452365630805\n",
      "Val Score:  0.7280057578234838\n"
     ]
    }
   ],
   "source": [
    "best_model,poly,sc = fit(X_train_scaled,y_train,X_val_scaled,y_val,degree=8,alpha=10)"
   ]
  },
  {
   "cell_type": "markdown",
   "metadata": {
    "colab_type": "text",
    "id": "aQ2id_s9dr2B"
   },
   "source": [
    "# Saving and Loading the model"
   ]
  },
  {
   "cell_type": "code",
   "execution_count": 26,
   "metadata": {
    "colab": {},
    "colab_type": "code",
    "id": "OuC0XaCBb00c"
   },
   "outputs": [],
   "source": [
    "# import joblib\n",
    "from pickle import dump"
   ]
  },
  {
   "cell_type": "code",
   "execution_count": 27,
   "metadata": {
    "colab": {
     "base_uri": "https://localhost:8080/",
     "height": 35
    },
    "colab_type": "code",
    "id": "91-oE9yAcyoR",
    "outputId": "02e98081-ccfc-4712-b12d-76210c239678"
   },
   "outputs": [],
   "source": [
    "dump(best_model, open('best_model.pkl', 'wb'))\n",
    "dump(poly, open('poly.pkl', 'wb'))\n",
    "dump(sc, open('scalar.pkl', 'wb'))"
   ]
  },
  {
   "cell_type": "code",
   "execution_count": 28,
   "metadata": {},
   "outputs": [],
   "source": [
    "from pickle import load"
   ]
  },
  {
   "cell_type": "code",
   "execution_count": 29,
   "metadata": {
    "colab": {},
    "colab_type": "code",
    "id": "BrQhickWdMAP"
   },
   "outputs": [],
   "source": [
    "loaded_model = load(open('best_model.pkl', 'rb'))\n",
    "poly = load(open('poly.pkl', 'rb'))\n",
    "sc = load(open('scalar.pkl', 'rb'))"
   ]
  },
  {
   "cell_type": "markdown",
   "metadata": {
    "colab_type": "text",
    "id": "QLm2gXD3ePux"
   },
   "source": [
    "# Deploying"
   ]
  },
  {
   "cell_type": "code",
   "execution_count": 30,
   "metadata": {
    "colab": {},
    "colab_type": "code",
    "id": "xf2zuCa8dYMl"
   },
   "outputs": [],
   "source": [
    "def prediction(model,poly,sc):\n",
    "    l=[]\n",
    "    l.append(float(input('Enter House Age: ')))\n",
    "    l.append(float(input('distance to the nearest MRT station: ')))\n",
    "    l.append(float(input('number of convenience stores: ')))\n",
    "    l.append(float(input('Latitude: ')))\n",
    "    l.append(float(input('Longitude: ')))\n",
    "    arr = np.asarray([l])\n",
    "    arr = poly.transform(arr)\n",
    "    scaled_arr = sc.transform(arr)\n",
    "    print('Price of the house per unit area: ', round(model.predict(scaled_arr)[0][0],2))"
   ]
  },
  {
   "cell_type": "code",
   "execution_count": 30,
   "metadata": {
    "colab": {},
    "colab_type": "code",
    "id": "8kJrIfiXfqCF"
   },
   "outputs": [],
   "source": [
    "# 19.5 \t306.59470 \t9 \t24.98034 \t121.53951 \t42.2\n",
    "# 13.3 \t561.98450 \t5 \t24.98746 \t121.54391 \t54.8"
   ]
  },
  {
   "cell_type": "code",
   "execution_count": 32,
   "metadata": {
    "colab": {
     "base_uri": "https://localhost:8080/",
     "height": 128
    },
    "colab_type": "code",
    "id": "uzRAkYRzfxXY",
    "outputId": "113fbf3f-c150-4be5-bf4a-b1848c435968"
   },
   "outputs": [
    {
     "name": "stdout",
     "output_type": "stream",
     "text": [
      "Enter House Age: 13.3\n",
      "distance to the nearest MRT station: 561.98450\n",
      "number of convenience stores: 5\n",
      "Latitude: 24.98746\n",
      "Longitude: 121.54391\n",
      "Price of the house per unit area:  45.57\n"
     ]
    }
   ],
   "source": [
    "prediction(loaded_model,poly,sc)"
   ]
  },
  {
   "cell_type": "code",
   "execution_count": null,
   "metadata": {},
   "outputs": [],
   "source": []
  }
 ],
 "metadata": {
  "colab": {
   "collapsed_sections": [],
   "name": "Regression Project.ipynb",
   "provenance": []
  },
  "kernelspec": {
   "display_name": "Python 3",
   "language": "python",
   "name": "python3"
  },
  "language_info": {
   "codemirror_mode": {
    "name": "ipython",
    "version": 3
   },
   "file_extension": ".py",
   "mimetype": "text/x-python",
   "name": "python",
   "nbconvert_exporter": "python",
   "pygments_lexer": "ipython3",
   "version": "3.7.4"
  },
  "widgets": {
   "application/vnd.jupyter.widget-state+json": {
    "2d18b4082e564775a83d3f7e7e7e1a7c": {
     "model_module": "@jupyter-widgets/controls",
     "model_name": "HBoxModel",
     "state": {
      "_dom_classes": [],
      "_model_module": "@jupyter-widgets/controls",
      "_model_module_version": "1.5.0",
      "_model_name": "HBoxModel",
      "_view_count": null,
      "_view_module": "@jupyter-widgets/controls",
      "_view_module_version": "1.5.0",
      "_view_name": "HBoxView",
      "box_style": "",
      "children": [
       "IPY_MODEL_fc9fa4ed218148f6b206d3f081d39410",
       "IPY_MODEL_5c92db6802b44c33bc3ebddb67e179d7"
      ],
      "layout": "IPY_MODEL_5ff3f99cf7214d3687a89432e6b5f8c0"
     }
    },
    "3027bb51d04d4b53b4714328d8cfa66e": {
     "model_module": "@jupyter-widgets/base",
     "model_name": "LayoutModel",
     "state": {
      "_model_module": "@jupyter-widgets/base",
      "_model_module_version": "1.2.0",
      "_model_name": "LayoutModel",
      "_view_count": null,
      "_view_module": "@jupyter-widgets/base",
      "_view_module_version": "1.2.0",
      "_view_name": "LayoutView",
      "align_content": null,
      "align_items": null,
      "align_self": null,
      "border": null,
      "bottom": null,
      "display": null,
      "flex": null,
      "flex_flow": null,
      "grid_area": null,
      "grid_auto_columns": null,
      "grid_auto_flow": null,
      "grid_auto_rows": null,
      "grid_column": null,
      "grid_gap": null,
      "grid_row": null,
      "grid_template_areas": null,
      "grid_template_columns": null,
      "grid_template_rows": null,
      "height": null,
      "justify_content": null,
      "justify_items": null,
      "left": null,
      "margin": null,
      "max_height": null,
      "max_width": null,
      "min_height": null,
      "min_width": null,
      "object_fit": null,
      "object_position": null,
      "order": null,
      "overflow": null,
      "overflow_x": null,
      "overflow_y": null,
      "padding": null,
      "right": null,
      "top": null,
      "visibility": null,
      "width": null
     }
    },
    "5bf2e170172a4a6e9733bd3bb3776cf6": {
     "model_module": "@jupyter-widgets/controls",
     "model_name": "ProgressStyleModel",
     "state": {
      "_model_module": "@jupyter-widgets/controls",
      "_model_module_version": "1.5.0",
      "_model_name": "ProgressStyleModel",
      "_view_count": null,
      "_view_module": "@jupyter-widgets/base",
      "_view_module_version": "1.2.0",
      "_view_name": "StyleView",
      "bar_color": null,
      "description_width": "initial"
     }
    },
    "5c92db6802b44c33bc3ebddb67e179d7": {
     "model_module": "@jupyter-widgets/controls",
     "model_name": "HTMLModel",
     "state": {
      "_dom_classes": [],
      "_model_module": "@jupyter-widgets/controls",
      "_model_module_version": "1.5.0",
      "_model_name": "HTMLModel",
      "_view_count": null,
      "_view_module": "@jupyter-widgets/controls",
      "_view_module_version": "1.5.0",
      "_view_name": "HTMLView",
      "description": "",
      "description_tooltip": null,
      "layout": "IPY_MODEL_3027bb51d04d4b53b4714328d8cfa66e",
      "placeholder": "​",
      "style": "IPY_MODEL_b1aa3d9a9f1e4181bb92d998c24603c8",
      "value": " 10/10 [00:27&lt;00:00,  2.79s/it]"
     }
    },
    "5ff3f99cf7214d3687a89432e6b5f8c0": {
     "model_module": "@jupyter-widgets/base",
     "model_name": "LayoutModel",
     "state": {
      "_model_module": "@jupyter-widgets/base",
      "_model_module_version": "1.2.0",
      "_model_name": "LayoutModel",
      "_view_count": null,
      "_view_module": "@jupyter-widgets/base",
      "_view_module_version": "1.2.0",
      "_view_name": "LayoutView",
      "align_content": null,
      "align_items": null,
      "align_self": null,
      "border": null,
      "bottom": null,
      "display": null,
      "flex": null,
      "flex_flow": null,
      "grid_area": null,
      "grid_auto_columns": null,
      "grid_auto_flow": null,
      "grid_auto_rows": null,
      "grid_column": null,
      "grid_gap": null,
      "grid_row": null,
      "grid_template_areas": null,
      "grid_template_columns": null,
      "grid_template_rows": null,
      "height": null,
      "justify_content": null,
      "justify_items": null,
      "left": null,
      "margin": null,
      "max_height": null,
      "max_width": null,
      "min_height": null,
      "min_width": null,
      "object_fit": null,
      "object_position": null,
      "order": null,
      "overflow": null,
      "overflow_x": null,
      "overflow_y": null,
      "padding": null,
      "right": null,
      "top": null,
      "visibility": null,
      "width": null
     }
    },
    "7e9d67af68104aa5a924a9f94bc53dff": {
     "model_module": "@jupyter-widgets/base",
     "model_name": "LayoutModel",
     "state": {
      "_model_module": "@jupyter-widgets/base",
      "_model_module_version": "1.2.0",
      "_model_name": "LayoutModel",
      "_view_count": null,
      "_view_module": "@jupyter-widgets/base",
      "_view_module_version": "1.2.0",
      "_view_name": "LayoutView",
      "align_content": null,
      "align_items": null,
      "align_self": null,
      "border": null,
      "bottom": null,
      "display": null,
      "flex": null,
      "flex_flow": null,
      "grid_area": null,
      "grid_auto_columns": null,
      "grid_auto_flow": null,
      "grid_auto_rows": null,
      "grid_column": null,
      "grid_gap": null,
      "grid_row": null,
      "grid_template_areas": null,
      "grid_template_columns": null,
      "grid_template_rows": null,
      "height": null,
      "justify_content": null,
      "justify_items": null,
      "left": null,
      "margin": null,
      "max_height": null,
      "max_width": null,
      "min_height": null,
      "min_width": null,
      "object_fit": null,
      "object_position": null,
      "order": null,
      "overflow": null,
      "overflow_x": null,
      "overflow_y": null,
      "padding": null,
      "right": null,
      "top": null,
      "visibility": null,
      "width": null
     }
    },
    "b1aa3d9a9f1e4181bb92d998c24603c8": {
     "model_module": "@jupyter-widgets/controls",
     "model_name": "DescriptionStyleModel",
     "state": {
      "_model_module": "@jupyter-widgets/controls",
      "_model_module_version": "1.5.0",
      "_model_name": "DescriptionStyleModel",
      "_view_count": null,
      "_view_module": "@jupyter-widgets/base",
      "_view_module_version": "1.2.0",
      "_view_name": "StyleView",
      "description_width": ""
     }
    },
    "fc9fa4ed218148f6b206d3f081d39410": {
     "model_module": "@jupyter-widgets/controls",
     "model_name": "FloatProgressModel",
     "state": {
      "_dom_classes": [],
      "_model_module": "@jupyter-widgets/controls",
      "_model_module_version": "1.5.0",
      "_model_name": "FloatProgressModel",
      "_view_count": null,
      "_view_module": "@jupyter-widgets/controls",
      "_view_module_version": "1.5.0",
      "_view_name": "ProgressView",
      "bar_style": "success",
      "description": "100%",
      "description_tooltip": null,
      "layout": "IPY_MODEL_7e9d67af68104aa5a924a9f94bc53dff",
      "max": 10,
      "min": 0,
      "orientation": "horizontal",
      "style": "IPY_MODEL_5bf2e170172a4a6e9733bd3bb3776cf6",
      "value": 10
     }
    }
   }
  }
 },
 "nbformat": 4,
 "nbformat_minor": 1
}
